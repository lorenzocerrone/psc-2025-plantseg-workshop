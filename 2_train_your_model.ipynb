{
 "cells": [
  {
   "cell_type": "markdown",
   "metadata": {},
   "source": [
    "# Step 1: Setup\n",
    "\n",
    "- Download the `sample_ovules.h5` from the test data folder.\n",
    "- Run the following cell to create a mock dataset for training our custom plantseg model."
   ]
  },
  {
   "cell_type": "code",
   "execution_count": null,
   "metadata": {},
   "outputs": [
    {
     "name": "stdout",
     "output_type": "stream",
     "text": [
      "INFO: P [MainThread] 2025-03-11 22:45:53,608 plantseg - Logger configured at initialisation. PlantSeg logger name: plantseg\n"
     ]
    },
    {
     "ename": "NameError",
     "evalue": "name 'smart_load' is not defined",
     "output_type": "error",
     "traceback": [
      "\u001b[31m---------------------------------------------------------------------------\u001b[39m",
      "\u001b[31mNameError\u001b[39m                                 Traceback (most recent call last)",
      "\u001b[36mCell\u001b[39m\u001b[36m \u001b[39m\u001b[32mIn[2]\u001b[39m\u001b[32m, line 6\u001b[39m\n\u001b[32m      2\u001b[39m \u001b[38;5;28;01mfrom\u001b[39;00m\u001b[38;5;250m \u001b[39m\u001b[34;01mpathlib\u001b[39;00m\u001b[38;5;250m \u001b[39m\u001b[38;5;28;01mimport\u001b[39;00m Path\n\u001b[32m      4\u001b[39m path = Path(\u001b[33m\"\u001b[39m\u001b[33msample_ovules.h5\u001b[39m\u001b[33m\"\u001b[39m)\n\u001b[32m----> \u001b[39m\u001b[32m6\u001b[39m image = \u001b[43msmart_load\u001b[49m(path, key=\u001b[33m\"\u001b[39m\u001b[33mraw\u001b[39m\u001b[33m\"\u001b[39m)\n\u001b[32m      7\u001b[39m label = smart_load(path, key=\u001b[33m\"\u001b[39m\u001b[33mlabel\u001b[39m\u001b[33m\"\u001b[39m)\n\u001b[32m      9\u001b[39m train_size = \u001b[32m2\u001b[39m\n",
      "\u001b[31mNameError\u001b[39m: name 'smart_load' is not defined"
     ]
    }
   ],
   "source": [
    "from plantseg.io.voxelsize import VoxelSize\n",
    "from plantseg.io import smart_load, create_h5\n",
    "from pathlib import Path\n",
    "\n",
    "path = Path(\"sample_ovules.h5\")\n",
    "\n",
    "image = smart_load(path, key=\"raw\")\n",
    "label = smart_load(path, key=\"label\")\n",
    "\n",
    "train_size = 2\n",
    "val_size = 2\n",
    "test_size = 2\n",
    "\n",
    "for i, (im2d, lab2d) in enumerate(zip(image, label)):\n",
    "    \n",
    "    if i < val_size:\n",
    "        group = \"val\"\n",
    "    elif i < val_size + test_size:\n",
    "        group = \"test\"\n",
    "    elif i < val_size + test_size + train_size:\n",
    "        group = \"train\"    \n",
    "    else:\n",
    "        break\n",
    "    \n",
    "    path = Path(f\"./training/{group}/ovule_2d_{i:03d}.h5\")\n",
    "    path.parent.mkdir(parents=True, exist_ok=True)\n",
    "    create_h5(path, stack=im2d[None, ...], key=\"raw\", voxel_size=VoxelSize(voxels_size=(1, 1, 1)))\n",
    "    create_h5(path, stack=lab2d[None, ...], key=\"label\", voxel_size=VoxelSize(voxels_size=(1, 1, 1)))"
   ]
  },
  {
   "cell_type": "markdown",
   "metadata": {},
   "source": [
    "# Step 2: Download the a template config file, and modify it to fit the mock dataset\n",
    "- Download the template config file from [here](https://zenodo.org/records/7805067) and save it as `config.yaml`.\n",
    "- Modify the `config.yaml` file to fit the mock dataset.\n",
    "    In particular, you need to modify the following fields:\n",
    "```yaml\n",
    "  validate_after_iters: Some small number (e.g., 3)\n",
    "  log_after_iters: Some small number (e.g., 1)\n",
    "\n",
    "  train:\n",
    "    # paths to the training datasets\n",
    "    file_paths:\n",
    "      - \"Path to the mock dataset train dir\"\n",
    "  ...\n",
    "  val:\n",
    "    # paths to the validation datasets\n",
    "    file_paths:\n",
    "    - \"Path to the mock dataset val dir\"\n",
    "```"
   ]
  },
  {
   "cell_type": "markdown",
   "metadata": {},
   "source": [
    "# Step 3: Run the training using pytorch3dunet\n",
    "\n",
    "In the terminal, run the following command to train the model:\n",
    "```bash\n",
    "train3dunet --config PATH_TO_CONFIG_FILE\n",
    "```"
   ]
  },
  {
   "cell_type": "markdown",
   "metadata": {},
   "source": [
    "# Step 4: Follow the training progress using tensorboard\n",
    "\n",
    "In the terminal, run the following command to start tensorboard:\n",
    "```bash\n",
    "tensorboard --logdir PATH_TO_LOG_DIR (./logs by default)\n",
    "```\n",
    "\n",
    "Then, open a browser and go to `http://localhost:6006/` to see the training progress."
   ]
  },
  {
   "cell_type": "markdown",
   "metadata": {},
   "source": [
    "# Step 5: Play with the config file parameters\n",
    "\n",
    "- You can play with the config file parameters to see how they affect the training process.\n",
    "- For example, you can change the learning rate, batch size, number of epochs, etc."
   ]
  },
  {
   "cell_type": "markdown",
   "metadata": {},
   "source": [
    "# Step 6: Fine-tune from an existing model\n",
    "\n",
    "- Download the pre-trained model from TODO\n",
    "- Modify the `config.yaml` file to use the pre-trained model:\n",
    "```yaml\n",
    "trainer:\n",
    "  pre_trained: \"Path to the pre-trained model\"\n",
    "```"
   ]
  },
  {
   "cell_type": "markdown",
   "metadata": {},
   "source": [
    "# Step 7: Add the model to the plantseg Model Zoo using the gui"
   ]
  }
 ],
 "metadata": {
  "kernelspec": {
   "display_name": "default",
   "language": "python",
   "name": "python3"
  },
  "language_info": {
   "codemirror_mode": {
    "name": "ipython",
    "version": 3
   },
   "file_extension": ".py",
   "mimetype": "text/x-python",
   "name": "python",
   "nbconvert_exporter": "python",
   "pygments_lexer": "ipython3",
   "version": "3.12.9"
  }
 },
 "nbformat": 4,
 "nbformat_minor": 4
}
